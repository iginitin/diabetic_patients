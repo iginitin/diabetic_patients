{
 "cells": [
  {
   "cell_type": "markdown",
   "metadata": {},
   "source": [
    "<h3>Predicting Diabetic Patients</h3> <hr>\n",
    "<h2>Project Summary</h2>\n",
    "<hr>\n",
    "<h3>Requirements</h3><br>\n",
    "\n",
    "Nowadays, anyone can get outside food delivered at home by using a mobile application. If you consuming outside food on a daily basis, then it can be harmful and it can cause disease such as diabetes. Diabetes is one of the acute diseases that occurs because of bad food habits. <br>\n",
    "\n",
    "You are given a dataset that contains the details of 1 million patients who have undergone different tests and medications for diabetes. Your task is to predict if a patient requires medications for diabetes again in the near future. Most of the features are made anonymous are made anonymous to protect the privacy of patients, insurance companies, etc.<br>\n",
    "\n",
    "You are required to predict the 'diabetesMeds column.\n",
    "\n",
    "Note: Refer to the sample_sbmission.csv files to check the format of the submissions.\n",
    "\n",
    "<h3>Evaluation Criteria</h3> <br>\n",
    "The Evaluation criteria for this problem is the weigthed recall score <br>\n",
    "Score = 100*recall_score(acutal_values,predicted_vvalues,average='weighted')\n",
    "\n",
    "<h3>Data Description</h3> <br>\n",
    "1) encounter_id = A Calculated unique ID for each encounter with the patient <br>\n",
    "2) Patient_ID = Unique ID for each patient<br>\n",
    "3) race = Patient race <br>\n",
    "4) gender = Patient gender <br>\n",
    "5) age = Patient age <br>\n",
    "6) weight = Patient weight <br>\n",
    "7) Admission_type_id = The ID assigned while taking admission in the hospital <br>\n",
    "8) Discharge_diposition_id= The ID assigned while discharging <br>\n",
    "9) Admission_source_id = The ID of the physician for whom the patient got admitted <br>\n",
    "10) Time_in_hospital = Time spent by the patient in the hospital <br>\n",
    "11) diabetesMed = Two unique values, Yes or NO, representing if the patient needs medicines for diabetes or not <br>\n",
    "\n",
    "<h3>Analysis</h3><br>\n",
    "\n",
    "Steps we performned:<br>\n",
    "1) Read the datasets <br>\n",
    "2) Remove ID columns <br>\n",
    "3) Remove target columns (diabetesMed) from train dataset <br>\n",
    "4) Merge train and test dataset <br>\n",
    "5) Label Encoding of categorical columns <br>\n",
    "6) BoxCox transformation of numerical columns <br>\n",
    "7) Separate out train and test dataset <br>\n",
    "8) Build Model on Logistic regression <br>\n",
    "9) Prediction on test data <br>\n",
    "\n",
    "\n",
    "<h3>Summary</h3><br>\n",
    "Here we do not have target column in Test data. Model accuracy was calculated based on submission of code in HackerEarth. \n",
    "Training the data using algorithms like Logistic Regression, Decision Tree, Random Forest, Ada Boost and checking the accuracy to find out which algorithm is the best.\n",
    "\n",
    "\n",
    "\n",
    "<h3>Results</h3><br>\n",
    "Logistic Regression model with highest accuracy. We have observed that model was 99.3% correct on 1 millon test data.\n",
    "\n",
    "\n",
    "<h3>Reference</h3><br>\n",
    "Hackathon organised by HackerEarth\n"
   ]
  },
  {
   "cell_type": "markdown",
   "metadata": {},
   "source": [
    "### Python Code"
   ]
  },
  {
   "cell_type": "code",
   "execution_count": 189,
   "metadata": {},
   "outputs": [],
   "source": [
    "#import libraries \n",
    "import pandas as pd\n",
    "import numpy as np\n",
    "from scipy import stats \n",
    "pd.set_option('display.max_columns', None)\n",
    "from sklearn.preprocessing import LabelEncoder\n",
    "le = LabelEncoder()"
   ]
  },
  {
   "cell_type": "markdown",
   "metadata": {},
   "source": [
    "### Read Data sets"
   ]
  },
  {
   "cell_type": "code",
   "execution_count": 190,
   "metadata": {},
   "outputs": [],
   "source": [
    "df_train_raw=pd.read_csv('train.csv')\n",
    "df_test_raw=pd.read_csv('test.csv')\n",
    "\n",
    "df_train=df_train_raw.copy()\n",
    "df_test=df_test_raw.copy()\n",
    "\n",
    "df_train_y=df_train['diabetesMed']"
   ]
  },
  {
   "cell_type": "code",
   "execution_count": 191,
   "metadata": {},
   "outputs": [],
   "source": [
    "#drop id columns from test and train data\n",
    "df_train.drop(['encounter_id','patient_id','diabetesMed'],axis=1,inplace=True)\n",
    "df_test.drop(['encounter_id','patient_id'],axis=1,inplace=True)\n"
   ]
  },
  {
   "cell_type": "code",
   "execution_count": 192,
   "metadata": {},
   "outputs": [],
   "source": [
    "# Concat Train and Test data for label encoding\n",
    "\n",
    "df = pd.concat([df_train,df_test], axis = 0 )"
   ]
  },
  {
   "cell_type": "code",
   "execution_count": 193,
   "metadata": {},
   "outputs": [
    {
     "data": {
      "text/plain": [
       "(22666, 47)"
      ]
     },
     "execution_count": 193,
     "metadata": {},
     "output_type": "execute_result"
    }
   ],
   "source": [
    "df.shape"
   ]
  },
  {
   "cell_type": "code",
   "execution_count": 194,
   "metadata": {},
   "outputs": [],
   "source": [
    "# Select All object columns and apply Leble Encoding\n",
    "\n",
    "df[df.select_dtypes(include=['object']).columns]=df[df.select_dtypes(include=['object']).columns].apply(le.fit_transform)"
   ]
  },
  {
   "cell_type": "markdown",
   "metadata": {},
   "source": [
    "#### Box-Cox Transformation\n",
    "When you are dealing with real-world data, you are going to deal with features that are heavily skewed. Transformation technique is useful to stabilize variance, make the data more normal distribution-like, improve the validity of measures of association. <br> <br>\n"
   ]
  },
  {
   "cell_type": "code",
   "execution_count": 195,
   "metadata": {},
   "outputs": [],
   "source": [
    "# applying Box Cox Transformation\n",
    "admission_type_id_1, fitted_lambda = stats.boxcox(df['admission_type_id'])\n",
    "discharge_disposition_id_1, fitted_lambda = stats.boxcox(df['discharge_disposition_id'])\n",
    "admission_source_id_1, fitted_lambda = stats.boxcox(df['admission_source_id'])\n",
    "time_in_hospital_1, fitted_lambda = stats.boxcox(df['time_in_hospital'])\n",
    "tel_3_1, fitted_lambda = stats.boxcox(df['tel_3'])\n",
    "tel_5_1, fitted_lambda = stats.boxcox(df['tel_5'])\n",
    "tel_12_1, fitted_lambda = stats.boxcox(df['tel_12'])"
   ]
  },
  {
   "cell_type": "code",
   "execution_count": 196,
   "metadata": {},
   "outputs": [],
   "source": [
    "# Drop existing columns\n",
    "df.drop(['admission_type_id', 'discharge_disposition_id', 'admission_source_id',\n",
    "       'time_in_hospital', 'tel_3', 'tel_5', 'tel_12'],axis=1,inplace=True)"
   ]
  },
  {
   "cell_type": "code",
   "execution_count": 197,
   "metadata": {},
   "outputs": [],
   "source": [
    "# Reassign the value to the individual columns\n",
    "df['admission_type_id']=admission_type_id_1\n",
    "df['discharge_disposition_id']=discharge_disposition_id_1\n",
    "df['admission_source_id']=admission_source_id_1\n",
    "df['time_in_hospital']=time_in_hospital_1\n",
    "df['tel_3']=tel_3_1\n",
    "df['tel_5']=tel_5_1\n",
    "df['tel_12']=tel_12_1"
   ]
  },
  {
   "cell_type": "code",
   "execution_count": 198,
   "metadata": {},
   "outputs": [
    {
     "data": {
      "text/html": [
       "<div>\n",
       "<style scoped>\n",
       "    .dataframe tbody tr th:only-of-type {\n",
       "        vertical-align: middle;\n",
       "    }\n",
       "\n",
       "    .dataframe tbody tr th {\n",
       "        vertical-align: top;\n",
       "    }\n",
       "\n",
       "    .dataframe thead th {\n",
       "        text-align: right;\n",
       "    }\n",
       "</style>\n",
       "<table border=\"1\" class=\"dataframe\">\n",
       "  <thead>\n",
       "    <tr style=\"text-align: right;\">\n",
       "      <th></th>\n",
       "      <th>race</th>\n",
       "      <th>gender</th>\n",
       "      <th>age</th>\n",
       "      <th>weight</th>\n",
       "      <th>tel_1</th>\n",
       "      <th>tel_2</th>\n",
       "      <th>tel_4</th>\n",
       "      <th>tel_6</th>\n",
       "      <th>tel_7</th>\n",
       "      <th>tel_8</th>\n",
       "      <th>tel_9</th>\n",
       "      <th>tel_10</th>\n",
       "      <th>tel_11</th>\n",
       "      <th>tel_13</th>\n",
       "      <th>tel_14</th>\n",
       "      <th>tel_15</th>\n",
       "      <th>tel_16</th>\n",
       "      <th>tel_17</th>\n",
       "      <th>tel_18</th>\n",
       "      <th>tel_19</th>\n",
       "      <th>tel_20</th>\n",
       "      <th>tel_21</th>\n",
       "      <th>tel_22</th>\n",
       "      <th>tel_23</th>\n",
       "      <th>tel_24</th>\n",
       "      <th>tel_25</th>\n",
       "      <th>tel_26</th>\n",
       "      <th>tel_27</th>\n",
       "      <th>tel_28</th>\n",
       "      <th>tel_29</th>\n",
       "      <th>tel_30</th>\n",
       "      <th>tel_41</th>\n",
       "      <th>tel_42</th>\n",
       "      <th>tel_43</th>\n",
       "      <th>tel_44</th>\n",
       "      <th>tel_45</th>\n",
       "      <th>tel_46</th>\n",
       "      <th>tel_47</th>\n",
       "      <th>tel_48</th>\n",
       "      <th>tel_49</th>\n",
       "      <th>admission_type_id</th>\n",
       "      <th>discharge_disposition_id</th>\n",
       "      <th>admission_source_id</th>\n",
       "      <th>time_in_hospital</th>\n",
       "      <th>tel_3</th>\n",
       "      <th>tel_5</th>\n",
       "      <th>tel_12</th>\n",
       "    </tr>\n",
       "  </thead>\n",
       "  <tbody>\n",
       "    <tr>\n",
       "      <th>0</th>\n",
       "      <td>3</td>\n",
       "      <td>1</td>\n",
       "      <td>8</td>\n",
       "      <td>0</td>\n",
       "      <td>7</td>\n",
       "      <td>16</td>\n",
       "      <td>0</td>\n",
       "      <td>0</td>\n",
       "      <td>0</td>\n",
       "      <td>0</td>\n",
       "      <td>438</td>\n",
       "      <td>100</td>\n",
       "      <td>433</td>\n",
       "      <td>2</td>\n",
       "      <td>2</td>\n",
       "      <td>1</td>\n",
       "      <td>1</td>\n",
       "      <td>1</td>\n",
       "      <td>0</td>\n",
       "      <td>1</td>\n",
       "      <td>0</td>\n",
       "      <td>2</td>\n",
       "      <td>1</td>\n",
       "      <td>0</td>\n",
       "      <td>1</td>\n",
       "      <td>1</td>\n",
       "      <td>1</td>\n",
       "      <td>1</td>\n",
       "      <td>0</td>\n",
       "      <td>0</td>\n",
       "      <td>0</td>\n",
       "      <td>0</td>\n",
       "      <td>2</td>\n",
       "      <td>0</td>\n",
       "      <td>0</td>\n",
       "      <td>0</td>\n",
       "      <td>0</td>\n",
       "      <td>0</td>\n",
       "      <td>0</td>\n",
       "      <td>1</td>\n",
       "      <td>0.000000</td>\n",
       "      <td>0.709312</td>\n",
       "      <td>3.094682</td>\n",
       "      <td>2.031779</td>\n",
       "      <td>54.472918</td>\n",
       "      <td>3.100590</td>\n",
       "      <td>15.156166</td>\n",
       "    </tr>\n",
       "    <tr>\n",
       "      <th>1</th>\n",
       "      <td>1</td>\n",
       "      <td>0</td>\n",
       "      <td>5</td>\n",
       "      <td>0</td>\n",
       "      <td>1</td>\n",
       "      <td>25</td>\n",
       "      <td>1</td>\n",
       "      <td>0</td>\n",
       "      <td>0</td>\n",
       "      <td>0</td>\n",
       "      <td>421</td>\n",
       "      <td>404</td>\n",
       "      <td>196</td>\n",
       "      <td>2</td>\n",
       "      <td>2</td>\n",
       "      <td>1</td>\n",
       "      <td>1</td>\n",
       "      <td>1</td>\n",
       "      <td>0</td>\n",
       "      <td>1</td>\n",
       "      <td>0</td>\n",
       "      <td>1</td>\n",
       "      <td>1</td>\n",
       "      <td>0</td>\n",
       "      <td>1</td>\n",
       "      <td>1</td>\n",
       "      <td>1</td>\n",
       "      <td>1</td>\n",
       "      <td>0</td>\n",
       "      <td>0</td>\n",
       "      <td>0</td>\n",
       "      <td>0</td>\n",
       "      <td>1</td>\n",
       "      <td>1</td>\n",
       "      <td>0</td>\n",
       "      <td>0</td>\n",
       "      <td>0</td>\n",
       "      <td>0</td>\n",
       "      <td>1</td>\n",
       "      <td>2</td>\n",
       "      <td>0.679927</td>\n",
       "      <td>0.000000</td>\n",
       "      <td>0.000000</td>\n",
       "      <td>0.727254</td>\n",
       "      <td>28.664223</td>\n",
       "      <td>4.771756</td>\n",
       "      <td>9.107879</td>\n",
       "    </tr>\n",
       "  </tbody>\n",
       "</table>\n",
       "</div>"
      ],
      "text/plain": [
       "   race  gender  age  weight  tel_1  tel_2  tel_4  tel_6  tel_7  tel_8  tel_9  \\\n",
       "0     3       1    8       0      7     16      0      0      0      0    438   \n",
       "1     1       0    5       0      1     25      1      0      0      0    421   \n",
       "\n",
       "   tel_10  tel_11  tel_13  tel_14  tel_15  tel_16  tel_17  tel_18  tel_19  \\\n",
       "0     100     433       2       2       1       1       1       0       1   \n",
       "1     404     196       2       2       1       1       1       0       1   \n",
       "\n",
       "   tel_20  tel_21  tel_22  tel_23  tel_24  tel_25  tel_26  tel_27  tel_28  \\\n",
       "0       0       2       1       0       1       1       1       1       0   \n",
       "1       0       1       1       0       1       1       1       1       0   \n",
       "\n",
       "   tel_29  tel_30  tel_41  tel_42  tel_43  tel_44  tel_45  tel_46  tel_47  \\\n",
       "0       0       0       0       2       0       0       0       0       0   \n",
       "1       0       0       0       1       1       0       0       0       0   \n",
       "\n",
       "   tel_48  tel_49  admission_type_id  discharge_disposition_id  \\\n",
       "0       0       1           0.000000                  0.709312   \n",
       "1       1       2           0.679927                  0.000000   \n",
       "\n",
       "   admission_source_id  time_in_hospital      tel_3     tel_5     tel_12  \n",
       "0             3.094682          2.031779  54.472918  3.100590  15.156166  \n",
       "1             0.000000          0.727254  28.664223  4.771756   9.107879  "
      ]
     },
     "execution_count": 198,
     "metadata": {},
     "output_type": "execute_result"
    }
   ],
   "source": [
    "df.head(2)"
   ]
  },
  {
   "cell_type": "markdown",
   "metadata": {},
   "source": [
    "#### Split df into df_train and df_test also verifying the shape "
   ]
  },
  {
   "cell_type": "code",
   "execution_count": 199,
   "metadata": {},
   "outputs": [
    {
     "data": {
      "text/plain": [
       "(14696, 47)"
      ]
     },
     "execution_count": 199,
     "metadata": {},
     "output_type": "execute_result"
    }
   ],
   "source": [
    "df_train.shape"
   ]
  },
  {
   "cell_type": "code",
   "execution_count": 200,
   "metadata": {},
   "outputs": [
    {
     "data": {
      "text/plain": [
       "(7970, 47)"
      ]
     },
     "execution_count": 200,
     "metadata": {},
     "output_type": "execute_result"
    }
   ],
   "source": [
    "df_test.shape"
   ]
  },
  {
   "cell_type": "code",
   "execution_count": 201,
   "metadata": {},
   "outputs": [],
   "source": [
    "#Split Data into Train and Test\n",
    "df_train=df.iloc[:df_train.shape[0],:]\n",
    "df_test=df.iloc[df_train.shape[0]:,:]"
   ]
  },
  {
   "cell_type": "code",
   "execution_count": 202,
   "metadata": {},
   "outputs": [
    {
     "data": {
      "text/plain": [
       "(14696, 47)"
      ]
     },
     "execution_count": 202,
     "metadata": {},
     "output_type": "execute_result"
    }
   ],
   "source": [
    "df_train.shape"
   ]
  },
  {
   "cell_type": "code",
   "execution_count": 203,
   "metadata": {},
   "outputs": [
    {
     "data": {
      "text/plain": [
       "(7970, 47)"
      ]
     },
     "execution_count": 203,
     "metadata": {},
     "output_type": "execute_result"
    }
   ],
   "source": [
    "df_test.shape"
   ]
  },
  {
   "cell_type": "markdown",
   "metadata": {},
   "source": [
    "### Model Building"
   ]
  },
  {
   "cell_type": "code",
   "execution_count": 204,
   "metadata": {},
   "outputs": [],
   "source": [
    "from sklearn.linear_model import LogisticRegression  # import the logistic regression\n",
    "logmodel = LogisticRegression(max_iter=10000)"
   ]
  },
  {
   "cell_type": "code",
   "execution_count": 205,
   "metadata": {},
   "outputs": [
    {
     "data": {
      "text/plain": [
       "LogisticRegression(C=1.0, class_weight=None, dual=False, fit_intercept=True,\n",
       "                   intercept_scaling=1, l1_ratio=None, max_iter=10000,\n",
       "                   multi_class='auto', n_jobs=None, penalty='l2',\n",
       "                   random_state=None, solver='lbfgs', tol=0.0001, verbose=0,\n",
       "                   warm_start=False)"
      ]
     },
     "execution_count": 205,
     "metadata": {},
     "output_type": "execute_result"
    }
   ],
   "source": [
    "logmodel.fit(df_train,df_train_y)"
   ]
  },
  {
   "cell_type": "code",
   "execution_count": 206,
   "metadata": {},
   "outputs": [],
   "source": [
    "predict=logmodel.predict(df_test)"
   ]
  },
  {
   "cell_type": "code",
   "execution_count": 207,
   "metadata": {},
   "outputs": [],
   "source": [
    "submission = pd.concat([df_test_raw.encounter_id, pd.Series(predict)], axis = 1) \n",
    "submission.rename(columns={submission.columns[0]:\"encounter_id\", submission.columns[1]:\"diabetesMed\"},inplace=True)\n"
   ]
  },
  {
   "cell_type": "code",
   "execution_count": 208,
   "metadata": {},
   "outputs": [
    {
     "data": {
      "text/plain": [
       "1    4558\n",
       "0    3412\n",
       "Name: diabetesMed, dtype: int64"
      ]
     },
     "execution_count": 208,
     "metadata": {},
     "output_type": "execute_result"
    }
   ],
   "source": [
    "submission['diabetesMed'].value_counts()"
   ]
  },
  {
   "cell_type": "code",
   "execution_count": 209,
   "metadata": {},
   "outputs": [],
   "source": [
    "submission.to_csv('submission.csv',index=False)"
   ]
  },
  {
   "cell_type": "code",
   "execution_count": 210,
   "metadata": {},
   "outputs": [
    {
     "name": "stderr",
     "output_type": "stream",
     "text": [
      "[TerminalIPythonApp] WARNING | Subcommand `ipython nbconvert` is deprecated and will be removed in future versions.\n",
      "[TerminalIPythonApp] WARNING | You likely want to use `jupyter nbconvert` in the future\n",
      "[NbConvertApp] Converting notebook diabetic_patients.ipynb to html\n",
      "[NbConvertApp] Writing 301179 bytes to diabetic_patients.html\n"
     ]
    }
   ],
   "source": [
    "!ipython nbconvert diabetic_patients.ipynb\n",
    "import os\n",
    "os.rename(r'diabetic_patients.html',r'index.html')"
   ]
  },
  {
   "cell_type": "code",
   "execution_count": null,
   "metadata": {},
   "outputs": [],
   "source": []
  }
 ],
 "metadata": {
  "hide_input": false,
  "kernelspec": {
   "display_name": "Python 3",
   "language": "python",
   "name": "python3"
  },
  "language_info": {
   "codemirror_mode": {
    "name": "ipython",
    "version": 3
   },
   "file_extension": ".py",
   "mimetype": "text/x-python",
   "name": "python",
   "nbconvert_exporter": "python",
   "pygments_lexer": "ipython3",
   "version": "3.7.6"
  }
 },
 "nbformat": 4,
 "nbformat_minor": 4
}
